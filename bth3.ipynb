{
 "cells": [
  {
   "cell_type": "code",
   "execution_count": 228,
   "id": "initial_id",
   "metadata": {
    "ExecuteTime": {
     "end_time": "2025-05-20T07:21:39.444958Z",
     "start_time": "2025-05-20T07:21:35.431400Z"
    },
    "collapsed": true
   },
   "outputs": [],
   "source": [
    "import pandas as pd\n",
    "import numpy as np\n",
    "import matplotlib.pyplot as plt\n",
    "from sklearn.preprocessing import LabelEncoder\n",
    "import torch\n",
    "from torch.utils.data import Dataset, DataLoader\n",
    "from sklearn.preprocessing import StandardScaler\n",
    "from sklearn.model_selection import train_test_split\n",
    "import tensorflow as tf\n",
    "from tensorflow.keras import layers, models\n",
    "from imblearn.over_sampling import SMOTE"
   ]
  },
  {
   "cell_type": "code",
   "execution_count": 229,
   "id": "7c3b6411379e6a4",
   "metadata": {
    "ExecuteTime": {
     "end_time": "2025-05-20T07:21:39.482577Z",
     "start_time": "2025-05-20T07:21:39.467510Z"
    }
   },
   "outputs": [],
   "source": [
    "df=pd.read_csv('seattle-weather.csv')"
   ]
  },
  {
   "cell_type": "code",
   "execution_count": 230,
   "id": "f48577106d381cdd",
   "metadata": {},
   "outputs": [
    {
     "name": "stdout",
     "output_type": "stream",
     "text": [
      "<class 'pandas.core.frame.DataFrame'>\n",
      "RangeIndex: 1461 entries, 0 to 1460\n",
      "Data columns (total 6 columns):\n",
      " #   Column         Non-Null Count  Dtype  \n",
      "---  ------         --------------  -----  \n",
      " 0   date           1461 non-null   object \n",
      " 1   precipitation  1461 non-null   float64\n",
      " 2   temp_max       1461 non-null   float64\n",
      " 3   temp_min       1461 non-null   float64\n",
      " 4   wind           1461 non-null   float64\n",
      " 5   weather        1461 non-null   object \n",
      "dtypes: float64(4), object(2)\n",
      "memory usage: 68.6+ KB\n"
     ]
    }
   ],
   "source": [
    "df.info()"
   ]
  },
  {
   "cell_type": "code",
   "execution_count": 231,
   "id": "acee5325dcd84dae",
   "metadata": {},
   "outputs": [
    {
     "data": {
      "text/plain": [
       "date             0\n",
       "precipitation    0\n",
       "temp_max         0\n",
       "temp_min         0\n",
       "wind             0\n",
       "weather          0\n",
       "dtype: int64"
      ]
     },
     "execution_count": 231,
     "metadata": {},
     "output_type": "execute_result"
    }
   ],
   "source": [
    "df.isnull().sum()"
   ]
  },
  {
   "cell_type": "code",
   "execution_count": 232,
   "id": "781a78c1",
   "metadata": {},
   "outputs": [
    {
     "data": {
      "text/plain": [
       "weather\n",
       "rain       641\n",
       "sun        640\n",
       "fog        101\n",
       "drizzle     53\n",
       "snow        26\n",
       "Name: count, dtype: int64"
      ]
     },
     "execution_count": 232,
     "metadata": {},
     "output_type": "execute_result"
    }
   ],
   "source": [
    "df['weather'].value_counts()"
   ]
  },
  {
   "cell_type": "code",
   "execution_count": null,
   "id": "769f662e",
   "metadata": {},
   "outputs": [],
   "source": []
  },
  {
   "cell_type": "code",
   "execution_count": 233,
   "id": "e73a84e0",
   "metadata": {},
   "outputs": [
    {
     "data": {
      "text/html": [
       "<div>\n",
       "<style scoped>\n",
       "    .dataframe tbody tr th:only-of-type {\n",
       "        vertical-align: middle;\n",
       "    }\n",
       "\n",
       "    .dataframe tbody tr th {\n",
       "        vertical-align: top;\n",
       "    }\n",
       "\n",
       "    .dataframe thead th {\n",
       "        text-align: right;\n",
       "    }\n",
       "</style>\n",
       "<table border=\"1\" class=\"dataframe\">\n",
       "  <thead>\n",
       "    <tr style=\"text-align: right;\">\n",
       "      <th></th>\n",
       "      <th>date</th>\n",
       "      <th>precipitation</th>\n",
       "      <th>temp_max</th>\n",
       "      <th>temp_min</th>\n",
       "      <th>wind</th>\n",
       "      <th>weather</th>\n",
       "    </tr>\n",
       "  </thead>\n",
       "  <tbody>\n",
       "    <tr>\n",
       "      <th>0</th>\n",
       "      <td>2012-01-01</td>\n",
       "      <td>0.0</td>\n",
       "      <td>12.8</td>\n",
       "      <td>5.0</td>\n",
       "      <td>4.7</td>\n",
       "      <td>drizzle</td>\n",
       "    </tr>\n",
       "    <tr>\n",
       "      <th>1</th>\n",
       "      <td>2012-01-02</td>\n",
       "      <td>10.9</td>\n",
       "      <td>10.6</td>\n",
       "      <td>2.8</td>\n",
       "      <td>4.5</td>\n",
       "      <td>rain</td>\n",
       "    </tr>\n",
       "    <tr>\n",
       "      <th>2</th>\n",
       "      <td>2012-01-03</td>\n",
       "      <td>0.8</td>\n",
       "      <td>11.7</td>\n",
       "      <td>7.2</td>\n",
       "      <td>2.3</td>\n",
       "      <td>rain</td>\n",
       "    </tr>\n",
       "    <tr>\n",
       "      <th>3</th>\n",
       "      <td>2012-01-04</td>\n",
       "      <td>20.3</td>\n",
       "      <td>12.2</td>\n",
       "      <td>5.6</td>\n",
       "      <td>4.7</td>\n",
       "      <td>rain</td>\n",
       "    </tr>\n",
       "    <tr>\n",
       "      <th>4</th>\n",
       "      <td>2012-01-05</td>\n",
       "      <td>1.3</td>\n",
       "      <td>8.9</td>\n",
       "      <td>2.8</td>\n",
       "      <td>6.1</td>\n",
       "      <td>rain</td>\n",
       "    </tr>\n",
       "  </tbody>\n",
       "</table>\n",
       "</div>"
      ],
      "text/plain": [
       "        date  precipitation  temp_max  temp_min  wind  weather\n",
       "0 2012-01-01            0.0      12.8       5.0   4.7  drizzle\n",
       "1 2012-01-02           10.9      10.6       2.8   4.5     rain\n",
       "2 2012-01-03            0.8      11.7       7.2   2.3     rain\n",
       "3 2012-01-04           20.3      12.2       5.6   4.7     rain\n",
       "4 2012-01-05            1.3       8.9       2.8   6.1     rain"
      ]
     },
     "execution_count": 233,
     "metadata": {},
     "output_type": "execute_result"
    }
   ],
   "source": [
    "df['date']=pd.to_datetime(df['date'])\n",
    "df.head(5)"
   ]
  },
  {
   "cell_type": "code",
   "execution_count": 234,
   "id": "2a59d670",
   "metadata": {},
   "outputs": [],
   "source": [
    "le=LabelEncoder()\n",
    "df['weather']=le.fit_transform(df['weather'])"
   ]
  },
  {
   "cell_type": "code",
   "execution_count": 235,
   "id": "93cff41c",
   "metadata": {},
   "outputs": [],
   "source": [
    "features=df[['precipitation','temp_max','temp_min','wind']].values\n",
    "labels=df['weather'].values"
   ]
  },
  {
   "cell_type": "code",
   "execution_count": 236,
   "id": "4e370e98",
   "metadata": {},
   "outputs": [],
   "source": [
    "scaler=StandardScaler()\n",
    "features_scaler=scaler.fit_transform(features)"
   ]
  },
  {
   "cell_type": "code",
   "execution_count": 237,
   "id": "9949e439",
   "metadata": {},
   "outputs": [],
   "source": [
    "X_train, X_test,y_train,y_test =train_test_split(features_scaler,labels,test_size=0.2,random_state=42)\n",
    "smote=SMOTE()\n",
    "X_train,y_train=smote.fit_resample(X_train,y_train)\n",
    "X_train = np.expand_dims(X_train, axis=1)\n",
    "X_test = np.expand_dims(X_test, axis=1)\n",
    "\n",
    "# One-hot cho output\n",
    "y_train_cat = tf.keras.utils.to_categorical(y_train)\n",
    "y_test_cat = tf.keras.utils.to_categorical(y_test)"
   ]
  },
  {
   "cell_type": "code",
   "execution_count": 238,
   "id": "6a19a65c",
   "metadata": {},
   "outputs": [
    {
     "name": "stderr",
     "output_type": "stream",
     "text": [
      "WARNING:absl:You are saving your model as an HDF5 file via `model.save()` or `keras.saving.save_model(model)`. This file format is considered legacy. We recommend using instead the native Keras format, e.g. `model.save('my_model.keras')` or `keras.saving.save_model(model, 'my_model.keras')`. \n",
      "c:\\Users\\ASUS\\AppData\\Local\\Programs\\Python\\Python312\\Lib\\site-packages\\keras\\src\\ops\\nn.py:908: UserWarning: You are using a softmax over axis 3 of a tensor of shape (32, 2, 1, 1). This axis has size 1. The softmax operation will always return the value 1, which is likely not what you intended. Did you mean to use a sigmoid instead?\n",
      "  warnings.warn(\n",
      "c:\\Users\\ASUS\\AppData\\Local\\Programs\\Python\\Python312\\Lib\\site-packages\\keras\\src\\ops\\nn.py:908: UserWarning: You are using a softmax over axis 3 of a tensor of shape (None, 2, 1, 1). This axis has size 1. The softmax operation will always return the value 1, which is likely not what you intended. Did you mean to use a sigmoid instead?\n",
      "  warnings.warn(\n"
     ]
    }
   ],
   "source": [
    "def transformer_encoder(inputs, head_size=64, num_heads=2, ff_dim=64, dropout=0.1):\n",
    "    # Chiếu inputs (3) lên đúng key_dim=64\n",
    "    x_proj = layers.Dense(head_size)(inputs)  # shape: (None, 1, 64)\n",
    "\n",
    "    # Multi-head attention\n",
    "    x = layers.LayerNormalization(epsilon=1e-6)(x_proj)\n",
    "    x = layers.MultiHeadAttention(key_dim=head_size, num_heads=num_heads, dropout=dropout)(x, x)\n",
    "    x = layers.Dropout(dropout)(x)\n",
    "    x = x + x_proj  # Residual (cùng shape: (None, 1, 64))\n",
    "\n",
    "    # Feed-forward block\n",
    "    x_ffn = layers.LayerNormalization(epsilon=1e-6)(x)\n",
    "    x_ffn = layers.Dense(ff_dim, activation=\"relu\")(x_ffn)\n",
    "    x_ffn = layers.Dropout(dropout)(x_ffn)\n",
    "    return x + x_ffn  # Residual\n",
    "\n",
    "\n",
    "# Xây dựng mô hình\n",
    "input_layer = layers.Input(shape=(1, 4))\n",
    "x = transformer_encoder(input_layer)\n",
    "x = layers.GlobalAveragePooling1D()(x)\n",
    "embedding_model = models.Model(inputs=input_layer, outputs=x)\n",
    "embedding_model.save(\"transformer_embedding_model.h5\")\n",
    "X_train_embed = embedding_model.predict(X_train, verbose=0)\n",
    "X_test_embed = embedding_model.predict(X_test, verbose=0)\n"
   ]
  },
  {
   "cell_type": "code",
   "execution_count": 239,
   "id": "948bd07c",
   "metadata": {},
   "outputs": [],
   "source": [
    "class SimpleGaussianNB:\n",
    "    def fit(self, X, y):\n",
    "        self.classes = np.unique(y)\n",
    "        n_features = X.shape[1]\n",
    "        n_classes = len(self.classes)\n",
    "\n",
    "        self.mean = np.zeros((n_classes, n_features))\n",
    "        self.var = np.zeros((n_classes, n_features))\n",
    "        self.priors = np.zeros(n_classes)\n",
    "\n",
    "        for idx, c in enumerate(self.classes):\n",
    "            X_c = X[y == c]\n",
    "            self.mean[idx, :] = X_c.mean(axis=0)\n",
    "            self.var[idx, :] = X_c.var(axis=0) + 1e-9\n",
    "            self.priors[idx] = X_c.shape[0] / X.shape[0]\n",
    "\n",
    "    def log_gaussian_pdf(self, x, mean, var):\n",
    "        return -0.5 * np.log(2 * np.pi * var) - ((x - mean) ** 2) / (2 * var)\n",
    "\n",
    "    def predict(self, X):\n",
    "        y_pred = []\n",
    "        for x in X:\n",
    "            posteriors = []\n",
    "            for idx, c in enumerate(self.classes):\n",
    "                prior = np.log(self.priors[idx])\n",
    "                conditional = np.sum(self.log_gaussian_pdf(x, self.mean[idx], self.var[idx]))\n",
    "                posterior = prior + conditional\n",
    "                posteriors.append(posterior)\n",
    "            y_pred.append(self.classes[np.argmax(posteriors)])\n",
    "        return np.array(y_pred)\n"
   ]
  },
  {
   "cell_type": "code",
   "execution_count": 240,
   "id": "4f45e05c",
   "metadata": {},
   "outputs": [
    {
     "name": "stdout",
     "output_type": "stream",
     "text": [
      "Đánh giá mô hình Gaussian Naive Bayes (sau Transformer):\n",
      "Accuracy: 0.590443686006826\n",
      "Classification Report:\n",
      "              precision    recall  f1-score   support\n",
      "\n",
      "     drizzle       0.16      0.33      0.21         9\n",
      "         fog       0.27      0.36      0.31        25\n",
      "        rain       0.85      0.57      0.69       120\n",
      "        snow       0.14      0.88      0.24         8\n",
      "         sun       0.77      0.65      0.71       131\n",
      "\n",
      "    accuracy                           0.59       293\n",
      "   macro avg       0.44      0.56      0.43       293\n",
      "weighted avg       0.73      0.59      0.64       293\n",
      "\n",
      "Confusion Matrix:\n",
      "[[ 3  2  0  1  3]\n",
      " [ 7  9  0  3  6]\n",
      " [ 1  8 69 26 16]\n",
      " [ 0  0  1  7  0]\n",
      " [ 8 14 11 13 85]]\n"
     ]
    }
   ],
   "source": [
    "from sklearn.metrics import accuracy_score, classification_report, confusion_matrix\n",
    "\n",
    "# Đánh giá kết quả\n",
    "print(\"Đánh giá mô hình Gaussian Naive Bayes (sau Transformer):\")\n",
    "print(\"Accuracy:\", accuracy_score(y_test, y_pred))\n",
    "print(\"Classification Report:\")\n",
    "print(classification_report(y_test, y_pred, target_names=le.classes_))\n",
    "\n",
    "print(\"Confusion Matrix:\")\n",
    "print(confusion_matrix(y_test, y_pred))"
   ]
  },
  {
   "cell_type": "code",
   "execution_count": 241,
   "id": "4037f354",
   "metadata": {},
   "outputs": [
    {
     "data": {
      "text/plain": [
       "<sklearn.metrics._plot.confusion_matrix.ConfusionMatrixDisplay at 0x208f6df18e0>"
      ]
     },
     "execution_count": 241,
     "metadata": {},
     "output_type": "execute_result"
    },
    {
     "data": {
      "image/png": "[encoded data removed]",
      "text/plain": [
       "<Figure size 640x480 with 2 Axes>"
      ]
     },
     "metadata": {},
     "output_type": "display_data"
    }
   ],
   "source": [
    "from sklearn.metrics import confusion_matrix, ConfusionMatrixDisplay\n",
    "\n",
    "# Giả sử bạn đã có y_true và y_pred\n",
    "# Nhãn cũ (tên lớp)\n",
    "labels = ['drizzle', 'fog', 'rain', 'snow', 'sun']\n",
    "\n",
    "# Tạo confusion matrix\n",
    "cm = confusion_matrix(y_test, y_pred)\n",
    "\n",
    "# Hiển thị confusion matrix với tên lớp\n",
    "disp = ConfusionMatrixDisplay(confusion_matrix=cm, display_labels=labels)\n",
    "disp.plot(cmap='Blues', xticks_rotation=45)"
   ]
  }
 ],
 "metadata": {
  "kernelspec": {
   "display_name": "Python 3",
   "language": "python",
   "name": "python3"
  },
  "language_info": {
   "codemirror_mode": {
    "name": "ipython",
    "version": 3
   },
   "file_extension": ".py",
   "mimetype": "text/x-python",
   "name": "python",
   "nbconvert_exporter": "python",
   "pygments_lexer": "ipython3",
   "version": "3.12.4"
  }
 },
 "nbformat": 4,
 "nbformat_minor": 5
}
